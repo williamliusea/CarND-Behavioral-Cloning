{
 "cells": [
  {
   "cell_type": "markdown",
   "metadata": {},
   "source": [
    "---\n",
    "## Step 0: Load Data"
   ]
  },
  {
   "cell_type": "code",
   "execution_count": 1,
   "metadata": {},
   "outputs": [
    {
     "name": "stdout",
     "output_type": "stream",
     "text": [
      "8036\n"
     ]
    }
   ],
   "source": [
    "import csv\n",
    "import cv2\n",
    "import numpy as np\n",
    "import numpy.random\n",
    "import sklearn\n",
    "import os\n",
    "import shutil\n",
    "\n",
    "lines=[]\n",
    "with open('sample_data/driving_log.csv') as csvfile:\n",
    "    reader = csv.reader(csvfile)\n",
    "    skip_first=False\n",
    "    for line in reader:\n",
    "        if (skip_first):\n",
    "            lines.append(line)\n",
    "        else:\n",
    "            skip_first=True\n",
    "lines = np.asarray(lines)\n",
    "print(len(lines))\n"
   ]
  },
  {
   "cell_type": "markdown",
   "metadata": {},
   "source": [
    "---\n",
    "\n",
    "## Step 1: Dataset Exploration\n",
    " "
   ]
  },
  {
   "cell_type": "markdown",
   "metadata": {},
   "source": [
    "### Provide a Basic visualization of the histogram of the steering distribution. "
   ]
  },
  {
   "cell_type": "code",
   "execution_count": 2,
   "metadata": {},
   "outputs": [
    {
     "data": {
      "text/plain": [
       "<Figure size 640x480 with 1 Axes>"
      ]
     },
     "metadata": {},
     "output_type": "display_data"
    }
   ],
   "source": [
    "### Replace each question mark with the appropriate value. \n",
    "### Use python, pandas or numpy methods rather than hard coding the results\n",
    "import matplotlib.pyplot as plt\n",
    "steerings = lines[:,3].astype(np.float)\n",
    "plt.hist(steerings, bins=30)  # arguments are passed to np.histogram\n",
    "plt.title(\"Histogram with 'auto' bins\")\n",
    "plt.show()"
   ]
  },
  {
   "cell_type": "code",
   "execution_count": 3,
   "metadata": {},
   "outputs": [
    {
     "name": "stdout",
     "output_type": "stream",
     "text": [
      "267.8666666666667 [   4    0    2    3    2    2   17   34   50   93  153  148  429  641\n",
      " 4697  585  343  477  112  111   81   25   13    6    5    1    0    0\n",
      "    0    2] [-0.9426954  -0.87793889 -0.81318237 -0.74842586 -0.68366935 -0.61891283\n",
      " -0.55415632 -0.48939981 -0.42464329 -0.35988678 -0.29513027 -0.23037375\n",
      " -0.16561724 -0.10086073 -0.03610421  0.0286523   0.09340881  0.15816533\n",
      "  0.22292184  0.28767835  0.35243487  0.41719138  0.48194789  0.54670441\n",
      "  0.61146092  0.67621743  0.74097395  0.80573046  0.87048697  0.93524349\n",
      "  1.        ] 30 31\n"
     ]
    }
   ],
   "source": [
    "hist, bin_edges= np.histogram(steerings,bins=30)\n",
    "threshold=np.average(hist)\n",
    "print(threshold, hist, bin_edges, len(hist), len(bin_edges))"
   ]
  },
  {
   "cell_type": "markdown",
   "metadata": {},
   "source": [
    "### Include an exploratory visualization of the dataset"
   ]
  },
  {
   "cell_type": "code",
   "execution_count": 4,
   "metadata": {
    "scrolled": true
   },
   "outputs": [
    {
     "name": "stdout",
     "output_type": "stream",
     "text": [
      "[1.         1.         1.         1.         1.         1.\n",
      " 1.         1.         1.         1.         1.         1.\n",
      " 0.62439782 0.41788872 0.05702931 0.45789174 0.78095238 0.56156534\n",
      " 1.         1.         1.         1.         1.         1.\n",
      " 1.         1.         1.         1.         1.         1.        ] 30\n"
     ]
    }
   ],
   "source": [
    "# get the random keep % from the histogram\n",
    "keep_rate = []\n",
    "for i in range(len(hist)):\n",
    "    if (hist[i]>threshold):\n",
    "        keep_rate.append(threshold/hist[i])\n",
    "    else:\n",
    "        keep_rate.append(1)\n",
    "keep_rate = np.asarray(keep_rate)\n",
    "print(keep_rate, len(keep_rate))\n",
    "    "
   ]
  },
  {
   "cell_type": "code",
   "execution_count": 5,
   "metadata": {},
   "outputs": [
    {
     "name": "stdout",
     "output_type": "stream",
     "text": [
      "2446\n"
     ]
    },
    {
     "data": {
      "image/png": "[encoded data removed]",
      "text/plain": [
       "<Figure size 432x288 with 1 Axes>"
      ]
     },
     "metadata": {
      "needs_background": "light"
     },
     "output_type": "display_data"
    }
   ],
   "source": [
    "# simulate the new histogram with the keep_rate\n",
    "# lines = np.ndarray.sort(lines)\n",
    "lines_keep=[]\n",
    "\n",
    "for i in range(len(lines)):\n",
    "    h = -1\n",
    "    for j in range(len(bin_edges)):\n",
    "        if (bin_edges[j]>= steerings[i]):\n",
    "            h = j - 1\n",
    "            break\n",
    "    if (h!=-1 and np.random.randint(100000) < keep_rate[h] * 100000):\n",
    "        lines_keep.append(lines[i])\n",
    "lines_keep=np.asarray(lines_keep)\n",
    "print(len(lines_keep))\n",
    "steerings_keep = lines_keep[:,3].astype(np.float)\n",
    "plt.hist(steerings_keep, bins=30)  # arguments are passed to np.histogram\n",
    "plt.title(\"Histogram with 'auto' bins\")\n",
    "plt.show()\n",
    "    "
   ]
  }
 ],
 "metadata": {
  "anaconda-cloud": {},
  "kernelspec": {
   "display_name": "Python 3",
   "language": "python",
   "name": "python3"
  },
  "language_info": {
   "codemirror_mode": {
    "name": "ipython",
    "version": 3
   },
   "file_extension": ".py",
   "mimetype": "text/x-python",
   "name": "python",
   "nbconvert_exporter": "python",
   "pygments_lexer": "ipython3",
   "version": "3.5.2"
  },
  "widgets": {
   "state": {},
   "version": "1.1.2"
  }
 },
 "nbformat": 4,
 "nbformat_minor": 1
}
